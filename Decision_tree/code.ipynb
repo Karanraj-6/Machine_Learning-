{
 "cells": [
  {
   "cell_type": "markdown",
   "metadata": {},
   "source": [
    "Decision tree :A decision tree is a machine learning model used for classification and regression tasks. It works by splitting the data into subsets based on the most significant feature, forming a tree-like structure. Each internal node represents a decision based on a feature, each branch represents an outcome of the decision, and each leaf node represents a class label or a continuous value. Decision trees are easy to interpret and visualize. However, they can be prone to overfitting, especially with complex datasets. Techniques like pruning, ensemble methods (e.g., Random Forests), and setting constraints on tree depth are used to mitigate overfitting."
   ]
  },
  {
   "cell_type": "code",
   "execution_count": 166,
   "metadata": {},
   "outputs": [],
   "source": [
    "from sklearn.tree import DecisionTreeClassifier,DecisionTreeRegressor\n",
    "from sklearn.model_selection import train_test_split\n",
    "from sklearn.datasets import load_iris,load_diabetes"
   ]
  },
  {
   "cell_type": "code",
   "execution_count": 167,
   "metadata": {},
   "outputs": [],
   "source": [
    "import pandas as pd \n",
    "import numpy as np\n",
    "\n",
    "iris=load_iris()\n",
    "df=pd.DataFrame(iris.data,columns=iris.feature_names)\n",
    "df['species']=iris.target\n",
    "\n",
    "X = df.iloc[:, :2]   # sepal_length , sepal_width  selected\n",
    "y = df['species']\n",
    "X_train , X_test ,y_train, y_test=train_test_split(X,y,random_state=42,test_size=0.2)\n"
   ]
  },
  {
   "cell_type": "code",
   "execution_count": 168,
   "metadata": {},
   "outputs": [],
   "source": [
    "model=DecisionTreeClassifier()"
   ]
  },
  {
   "cell_type": "code",
   "execution_count": 169,
   "metadata": {},
   "outputs": [
    {
     "data": {
      "text/plain": [
       "0.7333333333333333"
      ]
     },
     "execution_count": 169,
     "metadata": {},
     "output_type": "execute_result"
    }
   ],
   "source": [
    "from sklearn.metrics import accuracy_score,r2_score\n",
    "\n",
    "\n",
    "model=DecisionTreeClassifier(max_depth=7)\n",
    "model.fit(X_train, y_train)  \n",
    "y_pred=model.predict(X_test)\n",
    "\n",
    "accuracy_score(y_test,y_pred)"
   ]
  },
  {
   "cell_type": "markdown",
   "metadata": {},
   "source": [
    "regression"
   ]
  },
  {
   "cell_type": "code",
   "execution_count": 170,
   "metadata": {},
   "outputs": [
    {
     "data": {
      "text/plain": [
       "0.45589535997744557"
      ]
     },
     "execution_count": 170,
     "metadata": {},
     "output_type": "execute_result"
    }
   ],
   "source": [
    "dia=load_diabetes()\n",
    "X=dia.data\n",
    "y=dia.target\n",
    "X_train , X_test ,y_train, y_test=train_test_split(X,y,random_state=42,test_size=0.2)\n",
    "\n",
    "model=DecisionTreeRegressor(max_depth=8,min_samples_split=60,criterion='squared_error')\n",
    "model.fit(X_train, y_train)  \n",
    "y_pred=model.predict(X_test)\n",
    "r2_score(y_test,y_pred)"
   ]
  },
  {
   "cell_type": "code",
   "execution_count": null,
   "metadata": {},
   "outputs": [],
   "source": []
  }
 ],
 "metadata": {
  "kernelspec": {
   "display_name": "Python 3",
   "language": "python",
   "name": "python3"
  },
  "language_info": {
   "codemirror_mode": {
    "name": "ipython",
    "version": 3
   },
   "file_extension": ".py",
   "mimetype": "text/x-python",
   "name": "python",
   "nbconvert_exporter": "python",
   "pygments_lexer": "ipython3",
   "version": "3.12.4"
  }
 },
 "nbformat": 4,
 "nbformat_minor": 2
}
