{
 "cells": [
  {
   "cell_type": "code",
   "execution_count": 3,
   "metadata": {},
   "outputs": [
    {
     "name": "stdout",
     "output_type": "stream",
     "text": [
      " X_train:\n",
      "       age      fare\n",
      "623  21.00    7.8542\n",
      "90   29.00    8.0500\n",
      "659  58.00  113.2750\n",
      "868    NaN    9.5000\n",
      "355  28.00    9.5000\n",
      "..     ...       ...\n",
      "373  22.00  135.6333\n",
      "831   0.83   18.7500\n",
      "835  39.00   83.1583\n",
      "33   66.00   10.5000\n",
      "364    NaN   15.5000\n",
      "\n",
      "[712 rows x 2 columns]\n",
      "Transformed X_train:\n",
      "[[-0.65057065 -0.79186549]\n",
      " [-0.01588641 -0.76731373]\n",
      " [ 2.06760923  1.74152403]\n",
      " ...\n",
      " [ 0.73366977  1.47178506]\n",
      " [ 2.60335731 -0.50190371]\n",
      " [ 0.04349008 -0.11388991]]\n"
     ]
    }
   ],
   "source": [
    "import numpy as np\n",
    "import pandas as pd\n",
    "import seaborn as sns\n",
    "from sklearn.model_selection import train_test_split\n",
    "from sklearn.preprocessing import PowerTransformer\n",
    "from sklearn.pipeline import Pipeline\n",
    "from sklearn.compose import ColumnTransformer\n",
    "from sklearn.impute import SimpleImputer\n",
    "from sklearn.preprocessing import FunctionTransformer\n",
    "\n",
    "df = sns.load_dataset('titanic')\n",
    "df = df[['age', 'fare', 'survived']]\n",
    "\n",
    "X_train, X_test, y_train, y_test = train_test_split(df[['age', 'fare']], df['survived'], test_size=0.2)\n",
    "\n",
    "trn1 = ColumnTransformer(transformers=[\n",
    "    ('imputer', SimpleImputer(), ['age', 'fare'])\n",
    "], remainder='passthrough')\n",
    "\n",
    "power_transformer = PowerTransformer(method='yeo-johnson', standardize=True)  \n",
    "\n",
    "pipe = Pipeline([\n",
    "    ('transformations', trn1),\n",
    "    ('power_transform', power_transformer)\n",
    "])\n",
    "\n",
    "\n",
    "X_train_transformed = pipe.fit_transform(X_train)\n",
    "\n",
    "print(\" X_train:\")\n",
    "print(X_train)\n",
    "\n",
    "\n",
    "print(\"Transformed X_train:\")\n",
    "print(X_train_transformed)\n"
   ]
  },
  {
   "cell_type": "code",
   "execution_count": null,
   "metadata": {},
   "outputs": [],
   "source": []
  }
 ],
 "metadata": {
  "kernelspec": {
   "display_name": "Python 3",
   "language": "python",
   "name": "python3"
  },
  "language_info": {
   "codemirror_mode": {
    "name": "ipython",
    "version": 3
   },
   "file_extension": ".py",
   "mimetype": "text/x-python",
   "name": "python",
   "nbconvert_exporter": "python",
   "pygments_lexer": "ipython3",
   "version": "3.12.4"
  }
 },
 "nbformat": 4,
 "nbformat_minor": 2
}
